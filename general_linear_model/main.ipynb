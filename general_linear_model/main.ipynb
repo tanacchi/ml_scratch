{
 "cells": [
  {
   "cell_type": "markdown",
   "metadata": {},
   "source": [
    "# 機械学習基礎2B\n",
    "\n",
    "## 20966027 田中大揮"
   ]
  },
  {
   "cell_type": "markdown",
   "metadata": {},
   "source": [
    "\n",
    "### データの読み込み"
   ]
  },
  {
   "cell_type": "code",
   "execution_count": 1,
   "metadata": {},
   "outputs": [],
   "source": [
    "import numpy as np\n",
    "import matplotlib.pyplot as plt\n",
    "import re"
   ]
  },
  {
   "cell_type": "code",
   "execution_count": 2,
   "metadata": {},
   "outputs": [],
   "source": [
    "%matplotlib inline"
   ]
  },
  {
   "cell_type": "code",
   "execution_count": 3,
   "metadata": {},
   "outputs": [],
   "source": [
    "train_x = []\n",
    "train_y = []\n",
    "\n",
    "with open(\"./train_data.dat\") as f:\n",
    "    for line in f.readlines():\n",
    "        line = re.split('\\s', line)\n",
    "        x, y = filter(lambda s: s != \"\", line)\n",
    "        train_x.append(float(x))\n",
    "        train_y.append(float(y))\n",
    "        \n",
    "train_x = np.array(train_x)\n",
    "train_y = np.array(train_y)"
   ]
  },
  {
   "cell_type": "code",
   "execution_count": 4,
   "metadata": {},
   "outputs": [],
   "source": [
    "test_x = []\n",
    "\n",
    "with open(\"./test_data.dat\") as f:\n",
    "    for line in f.readlines():\n",
    "        test_x.append(float(line))\n",
    "        \n",
    "test_x = np.array(test_x)"
   ]
  },
  {
   "cell_type": "code",
   "execution_count": 5,
   "metadata": {
    "scrolled": true
   },
   "outputs": [
    {
     "data": {
      "image/png": "[encoded data removed]",
      "text/plain": [
       "<Figure size 432x288 with 1 Axes>"
      ]
     },
     "metadata": {
      "needs_background": "light"
     },
     "output_type": "display_data"
    }
   ],
   "source": [
    "plt.scatter(train_x, train_y)\n",
    "plt.show()"
   ]
  },
  {
   "cell_type": "markdown",
   "metadata": {},
   "source": [
    "### モデルの定義\n",
    "\n",
    "以下のような線形モデル $f$ を定義した\n",
    "\n",
    "$$f_\\theta (x) = \\sum_{j=1}^5 \\theta_j \\phi_j (x) = \\theta^T \\phi(x)$$\n",
    "$$\\theta = (\\theta_1, \\cdots, \\theta_5)^T$$\n",
    "$$\\phi(x) = (\\phi_1(x), \\phi_5(x))^T$$\n",
    "$$\\phi_j(x) = x^{j - 1}$$"
   ]
  },
  {
   "cell_type": "code",
   "execution_count": 6,
   "metadata": {},
   "outputs": [
    {
     "name": "stdout",
     "output_type": "stream",
     "text": [
      "(50, 5)\n"
     ]
    }
   ],
   "source": [
    "gen_poly_func = lambda b : lambda x: np.array([x**i for i in range(b)]).T\n",
    "basis_funcs = lambda x: gen_poly_func(5)(x)\n",
    "phi_x = np.vectorize(basis_funcs, signature='(n)->(n,m)')\n",
    "phi = phi_x(train_x) \n",
    "print(phi.shape)"
   ]
  },
  {
   "cell_type": "markdown",
   "metadata": {},
   "source": [
    "学習サンプルに対する2乗誤差を目的関数とし，\n",
    "これを最小化するような $\\hat{\\theta}$を求めると\n",
    "\n",
    "$$\\hat{\\theta} = \\Phi^{+} y$$\n",
    "$$\\Phi = \\left ( \\begin{array}{ccc}\n",
    "    \\phi_1(x_1) & \\cdots & \\phi_5(x_1) \\\\\n",
    "    \\vdots & \\ddots & \\\\\n",
    "    \\phi_1(x_n) & & \\phi_5(x_n)\n",
    "\\end{array} \\right )\n",
    "$$"
   ]
  },
  {
   "cell_type": "code",
   "execution_count": 7,
   "metadata": {},
   "outputs": [
    {
     "name": "stdout",
     "output_type": "stream",
     "text": [
      "(5, 50) (50,)\n"
     ]
    }
   ],
   "source": [
    "phi_dagger = np.linalg.inv(phi.T @ phi) @ phi.T\n",
    "print(phi_dagger.shape, train_y.shape)\n",
    "theta_hat = phi_dagger @ train_y"
   ]
  },
  {
   "cell_type": "markdown",
   "metadata": {},
   "source": [
    "$$y = f_{\\hat{\\theta}}(x^{(test)})$$\n",
    "としてテストデータに対する出力を計算する"
   ]
  },
  {
   "cell_type": "code",
   "execution_count": 8,
   "metadata": {},
   "outputs": [
    {
     "name": "stdout",
     "output_type": "stream",
     "text": [
      "(5,)\n",
      "(50, 5)\n"
     ]
    }
   ],
   "source": [
    "print(theta_hat.shape)  # b × 1\n",
    "print(phi_x(test_x).shape)  # n × b\n",
    "\n",
    "test_y = np.einsum('b,nb->n', theta_hat, phi_x(test_x))"
   ]
  },
  {
   "cell_type": "markdown",
   "metadata": {},
   "source": [
    "### 学習結果の表示"
   ]
  },
  {
   "cell_type": "code",
   "execution_count": 9,
   "metadata": {
    "scrolled": true
   },
   "outputs": [
    {
     "data": {
      "image/png": "[encoded data removed]",
      "text/plain": [
       "<Figure size 432x288 with 1 Axes>"
      ]
     },
     "metadata": {
      "needs_background": "light"
     },
     "output_type": "display_data"
    }
   ],
   "source": [
    "test_data = np.array([test_x, test_y]).T\n",
    "test_data = test_data[np.argsort(test_data[:, 0])]\n",
    "plt.scatter(train_x, train_y)\n",
    "plt.plot(test_data[:, 0], test_data[:, 1], c='red')\n",
    "plt.show()"
   ]
  },
  {
   "cell_type": "code",
   "execution_count": 10,
   "metadata": {},
   "outputs": [],
   "source": [
    "# !jupyter-nbconvert --to html main.ipynb"
   ]
  }
 ],
 "metadata": {
  "kernelspec": {
   "display_name": "Python 3",
   "language": "python",
   "name": "python3"
  },
  "language_info": {
   "codemirror_mode": {
    "name": "ipython",
    "version": 3
   },
   "file_extension": ".py",
   "mimetype": "text/x-python",
   "name": "python",
   "nbconvert_exporter": "python",
   "pygments_lexer": "ipython3",
   "version": "3.8.5"
  }
 },
 "nbformat": 4,
 "nbformat_minor": 4
}
