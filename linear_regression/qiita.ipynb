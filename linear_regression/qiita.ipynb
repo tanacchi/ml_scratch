{
 "cells": [
  {
   "cell_type": "code",
   "execution_count": 1,
   "metadata": {},
   "outputs": [],
   "source": [
    "import numpy as np\n",
    "import matplotlib.pyplot as plt"
   ]
  },
  {
   "cell_type": "code",
   "execution_count": 19,
   "metadata": {},
   "outputs": [
    {
     "data": {
      "image/png": "[encoded data removed]",
      "text/plain": [
       "<Figure size 432x288 with 1 Axes>"
      ]
     },
     "metadata": {
      "needs_background": "light"
     },
     "output_type": "display_data"
    }
   ],
   "source": [
    "num_data = 30\n",
    "random_seed = 0\n",
    "np.set_printoptions(10)\n",
    "np.random.seed(random_seed)\n",
    "plt.axes().set_aspect('equal')\n",
    "\n",
    "\n",
    "x = np.linspace(-np.pi, +np.pi, num_data)\n",
    "x_star = np.linspace(-1.5 * np.pi, + 1.5 * np.pi, num_data)\n",
    "y = np.sin(x) * 2\n",
    "y += np.random.normal(scale=0.1, size=y.shape)"
   ]
  },
  {
   "cell_type": "code",
   "execution_count": 20,
   "metadata": {},
   "outputs": [
    {
     "name": "stderr",
     "output_type": "stream",
     "text": [
      "<ipython-input-20-ba812cc6a000>:2: MatplotlibDeprecationWarning: Adding an axes using the same arguments as a previous axes currently reuses the earlier instance.  In a future version, a new instance will always be created and returned.  Meanwhile, this warning can be suppressed, and the future behavior ensured, by passing a unique label to each axes instance.\n",
      "  plt.axes().set_aspect('equal')\n"
     ]
    },
    {
     "data": {
      "image/png": "[encoded data removed]",
      "text/plain": [
       "<Figure size 432x288 with 1 Axes>"
      ]
     },
     "metadata": {
      "needs_background": "light"
     },
     "output_type": "display_data"
    }
   ],
   "source": [
    "plt.scatter(x, y)\n",
    "plt.axes().set_aspect('equal')\n",
    "\n",
    "plt.show()"
   ]
  },
  {
   "cell_type": "code",
   "execution_count": 21,
   "metadata": {
    "scrolled": true
   },
   "outputs": [
    {
     "name": "stdout",
     "output_type": "stream",
     "text": [
      "[[-3.1415926536  1.          ]\n",
      " [-2.9249310913  1.          ]\n",
      " [-2.708269529   1.          ]\n",
      " [-2.4916079666  1.          ]\n",
      " [-2.2749464043  1.          ]]\n",
      "[[-4.7123889804  1.          ]\n",
      " [-4.3873966369  1.          ]\n",
      " [-4.0624042934  1.          ]\n",
      " [-3.73741195    1.          ]\n",
      " [-3.4124196065  1.          ]]\n"
     ]
    }
   ],
   "source": [
    "X = np.concatenate((x[:, np.newaxis], np.ones((num_data, 1))), axis=1)\n",
    "X_star = np.concatenate((x_star[:, np.newaxis], np.ones((num_data, 1))), axis=1)\n",
    "print(X[:5])\n",
    "print(X_star[:5])"
   ]
  },
  {
   "cell_type": "markdown",
   "metadata": {},
   "source": [
    "## 線形回帰"
   ]
  },
  {
   "cell_type": "code",
   "execution_count": 22,
   "metadata": {},
   "outputs": [],
   "source": [
    "a = np.linalg.inv(X.T @ X) @ X.T @ y"
   ]
  },
  {
   "cell_type": "code",
   "execution_count": 24,
   "metadata": {},
   "outputs": [
    {
     "name": "stderr",
     "output_type": "stream",
     "text": [
      "<ipython-input-24-bb80363e28d3>:5: MatplotlibDeprecationWarning: Adding an axes using the same arguments as a previous axes currently reuses the earlier instance.  In a future version, a new instance will always be created and returned.  Meanwhile, this warning can be suppressed, and the future behavior ensured, by passing a unique label to each axes instance.\n",
      "  plt.axes().set_aspect('equal')\n"
     ]
    },
    {
     "data": {
      "image/png": "[encoded data removed]",
      "text/plain": [
       "<Figure size 432x288 with 1 Axes>"
      ]
     },
     "metadata": {
      "needs_background": "light"
     },
     "output_type": "display_data"
    }
   ],
   "source": [
    "y_hat = X_star @ a\n",
    "\n",
    "plt.scatter(x, y, label=\"train\", c=\"b\")\n",
    "plt.plot(x_star, y_hat, label=\"pred\", c=\"r\")\n",
    "plt.axes().set_aspect('equal')\n",
    "plt.show()"
   ]
  },
  {
   "cell_type": "markdown",
   "metadata": {},
   "source": [
    "## 局所線形回帰"
   ]
  },
  {
   "cell_type": "code",
   "execution_count": 30,
   "metadata": {},
   "outputs": [
    {
     "data": {
      "image/png": "[encoded data removed]",
      "text/plain": [
       "<Figure size 432x288 with 1 Axes>"
      ]
     },
     "metadata": {
      "needs_background": "light"
     },
     "output_type": "display_data"
    }
   ],
   "source": [
    "σ = 0.8\n",
    "k = lambda x1, x2: np.exp(- np.linalg.norm(x1 - x2)**2 / (2 * σ**2))\n",
    "\n",
    "y_hat = np.empty(shape=(X_star.shape[0], 1))\n",
    "for i, x_star in enumerate(X_star):\n",
    "    W = np.diag(np.array([k(x_star, x_i) for x_i in x]))\n",
    "    a = np.linalg.inv(X.T @ W @ X) @ X.T @ W @ y\n",
    "    y_hat[i] = x_star.T @ a\n",
    "    \n",
    "    \n",
    "plt.scatter(x, y, label=\"train\", c=\"b\")\n",
    "plt.plot(X_star[:, 0], y_hat, label=\"pred\", c=\"r\")\n",
    "plt.show()"
   ]
  },
  {
   "cell_type": "code",
   "execution_count": null,
   "metadata": {},
   "outputs": [],
   "source": []
  }
 ],
 "metadata": {
  "kernelspec": {
   "display_name": "Python 3",
   "language": "python",
   "name": "python3"
  },
  "language_info": {
   "codemirror_mode": {
    "name": "ipython",
    "version": 3
   },
   "file_extension": ".py",
   "mimetype": "text/x-python",
   "name": "python",
   "nbconvert_exporter": "python",
   "pygments_lexer": "ipython3",
   "version": "3.8.5"
  }
 },
 "nbformat": 4,
 "nbformat_minor": 4
}
